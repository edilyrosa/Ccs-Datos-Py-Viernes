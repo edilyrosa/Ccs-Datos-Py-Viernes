{
  "nbformat": 4,
  "nbformat_minor": 0,
  "metadata": {
    "colab": {
      "provenance": [],
      "authorship_tag": "ABX9TyO+DgHrxwfbl8pTvmx1gmW8",
      "include_colab_link": true
    },
    "kernelspec": {
      "name": "python3",
      "display_name": "Python 3"
    },
    "language_info": {
      "name": "python"
    }
  },
  "cells": [
    {
      "cell_type": "markdown",
      "metadata": {
        "id": "view-in-github",
        "colab_type": "text"
      },
      "source": [
        "<a href=\"https://colab.research.google.com/github/edilyrosa/Ccs-Datos-Py-Viernes/blob/main/Untitled2.ipynb\" target=\"_parent\"><img src=\"https://colab.research.google.com/assets/colab-badge.svg\" alt=\"Open In Colab\"/></a>"
      ]
    },
    {
      "cell_type": "markdown",
      "source": [
        "**⛹🏽‍♀️🏋🏽‍♀️ EJERCICIO #1: 1ERA PARTE: Creacion de series, accederla, .index, .values⛹🏽‍♀️🏋🏽‍♀️**"
      ],
      "metadata": {
        "id": "ocOgtGcecG9t"
      }
    },
    {
      "cell_type": "code",
      "source": [
        "import pandas as pd\n",
        "from IPython.display import display\n",
        "\n",
        "# Definir etiquetas y datos\n",
        "nombres = [\"Ana\", \"Luis\", \"Marta\", \"Juan\"]\n",
        "calificaciones = [8.5, 7.0, 9.2, 6.8]\n",
        "\n",
        "# Crear la Serie\n",
        "serie_calificaciones = pd.Series(calificaciones, index=nombres)\n",
        "\n",
        "# Mostrar toda la Serie\n",
        "display(\"Serie completa, devolveran tag-value:\")\n",
        "display(serie_calificaciones)\n",
        "\n",
        "# Acceder al valor mediante la etiqueta\n",
        "display(\"Calificación de Marta (devuelve el valor):\")\n",
        "print(serie_calificaciones[\"Marta\"])\n",
        "\n",
        "# Mostrar índice y datos por separado\n",
        "display(\"Índice (etiquetas), devuelve list de tags:\")\n",
        "print(serie_calificaciones.index)\n",
        "display(\"Datos (calificaciones), devuelve list de values:\")\n",
        "print(serie_calificaciones.values)\n"
      ],
      "metadata": {
        "colab": {
          "base_uri": "https://localhost:8080/",
          "height": 340
        },
        "id": "kwE92s1BU7rY",
        "outputId": "80c65cd4-ad2b-4f2e-9837-deeed6a09fcc"
      },
      "execution_count": 39,
      "outputs": [
        {
          "output_type": "display_data",
          "data": {
            "text/plain": [
              "'Serie completa, devolveran tag-value:'"
            ],
            "application/vnd.google.colaboratory.intrinsic+json": {
              "type": "string"
            }
          },
          "metadata": {}
        },
        {
          "output_type": "display_data",
          "data": {
            "text/plain": [
              "Ana      8.5\n",
              "Luis     7.0\n",
              "Marta    9.2\n",
              "Juan     6.8\n",
              "dtype: float64"
            ],
            "text/html": [
              "<div>\n",
              "<style scoped>\n",
              "    .dataframe tbody tr th:only-of-type {\n",
              "        vertical-align: middle;\n",
              "    }\n",
              "\n",
              "    .dataframe tbody tr th {\n",
              "        vertical-align: top;\n",
              "    }\n",
              "\n",
              "    .dataframe thead th {\n",
              "        text-align: right;\n",
              "    }\n",
              "</style>\n",
              "<table border=\"1\" class=\"dataframe\">\n",
              "  <thead>\n",
              "    <tr style=\"text-align: right;\">\n",
              "      <th></th>\n",
              "      <th>0</th>\n",
              "    </tr>\n",
              "  </thead>\n",
              "  <tbody>\n",
              "    <tr>\n",
              "      <th>Ana</th>\n",
              "      <td>8.5</td>\n",
              "    </tr>\n",
              "    <tr>\n",
              "      <th>Luis</th>\n",
              "      <td>7.0</td>\n",
              "    </tr>\n",
              "    <tr>\n",
              "      <th>Marta</th>\n",
              "      <td>9.2</td>\n",
              "    </tr>\n",
              "    <tr>\n",
              "      <th>Juan</th>\n",
              "      <td>6.8</td>\n",
              "    </tr>\n",
              "  </tbody>\n",
              "</table>\n",
              "</div><br><label><b>dtype:</b> float64</label>"
            ]
          },
          "metadata": {}
        },
        {
          "output_type": "display_data",
          "data": {
            "text/plain": [
              "'Calificación de Marta (devuelve el valor):'"
            ],
            "application/vnd.google.colaboratory.intrinsic+json": {
              "type": "string"
            }
          },
          "metadata": {}
        },
        {
          "output_type": "stream",
          "name": "stdout",
          "text": [
            "9.2\n"
          ]
        },
        {
          "output_type": "display_data",
          "data": {
            "text/plain": [
              "'Índice (etiquetas), devuelve list de tags:'"
            ],
            "application/vnd.google.colaboratory.intrinsic+json": {
              "type": "string"
            }
          },
          "metadata": {}
        },
        {
          "output_type": "stream",
          "name": "stdout",
          "text": [
            "Index(['Ana', 'Luis', 'Marta', 'Juan'], dtype='object')\n"
          ]
        },
        {
          "output_type": "display_data",
          "data": {
            "text/plain": [
              "'Datos (calificaciones), devuelve list de values:'"
            ],
            "application/vnd.google.colaboratory.intrinsic+json": {
              "type": "string"
            }
          },
          "metadata": {}
        },
        {
          "output_type": "stream",
          "name": "stdout",
          "text": [
            "[8.5 7.  9.2 6.8]\n"
          ]
        }
      ]
    },
    {
      "cell_type": "markdown",
      "source": [
        "**🐼PANDAS: EXPLICACION DE SLICING Y PROPIEDADES sr.loc[star:end], sr.iloc[star:end]**\n",
        "\n",
        "\n"
      ],
      "metadata": {
        "id": "fZ627E4MgDEf"
      }
    },
    {
      "cell_type": "markdown",
      "metadata": {
        "id": "535b6024"
      },
      "source": [
        "### Explicación de Slicing, .loc[], y .iloc[] en Pandas Series\n",
        "\n",
        "En Pandas, puedes acceder y seleccionar partes de una Serie de diferentes maneras, y es crucial entender las diferencias entre slicing, `.loc[]`, y `.iloc[]`.\n",
        "\n",
        "*   **Slicing:**\n",
        "    *   Cuando se usa slicing con **posiciones enteras** (por ejemplo, `my_series[0:3]`), funciona de manera similar al slicing en listas de Python: incluye el elemento en la posición inicial pero **excluye** el elemento en la posición final.\n",
        "    *   Cuando se usa slicing con **etiquetas** (por ejemplo, `my_series[\"a\":\"c\"]`), es diferente a las listas de Python: **incluye** tanto la etiqueta inicial como la final en el resultado.\n",
        "\n",
        "*   **`.loc[]`:**\n",
        "    *   Se utiliza para seleccionar datos **basados en las etiquetas** del índice.\n",
        "    *   Permite seleccionar una sola etiqueta, un rango de etiquetas (incluyendo tanto la inicial como la final), o una lista de etiquetas.\n",
        "    *   Siempre trabaja con las etiquetas del índice, no con las posiciones numéricas por defecto.\n",
        "\n",
        "*   **`.iloc[]`:**\n",
        "    *   Se utiliza para seleccionar datos **basados en la posición entera** de los elementos (la posición comienza en 0).\n",
        "    *   Permite seleccionar una sola posición, un rango de posiciones (incluyendo la inicial pero excluyendo la final, como en el slicing de listas de Python), o una lista de posiciones.\n",
        "    *   Siempre trabaja con las posiciones numéricas de los elementos, ignorando las etiquetas del índice.\n",
        "\n",
        "En resumen:\n",
        "- Usa **slicing por posición** o **`.iloc[]`** cuando quieras seleccionar elementos basándote en su orden numérico (0, 1, 2, ...).\n",
        "- Usa **slicing por etiqueta** o **`.loc[]`** cuando quieras seleccionar elementos basándote en sus nombres o etiquetas en el índice. Recuerda la diferencia en cómo manejan el punto final. La forma más segura y explícita para seleccionar por etiqueta es usar `.loc[]`."
      ]
    },
    {
      "cell_type": "code",
      "metadata": {
        "colab": {
          "base_uri": "https://localhost:8080/",
          "height": 1000
        },
        "id": "871fda0e",
        "outputId": "e2c668d3-325d-43ef-a625-5f7f36648843"
      },
      "source": [
        "import pandas as pd\n",
        "\n",
        "# Crear una Serie de ejemplo\n",
        "data = [10, 20, 30, 40, 50]\n",
        "index = [\"a\", \"b\", \"c\", \"d\", \"e\"]\n",
        "my_series = pd.Series(data, index=index)\n",
        "\n",
        "print(\"Serie original, devuelve tag-value:\")\n",
        "display(my_series)\n",
        "\n",
        "print(\"\\n--- Slicing ---\")\n",
        "# Slicing por posición (similar a las listas de Python)\n",
        "print(\"Slicing por posición [0:3], devolveran tag-value de la porcion\")\n",
        "display(my_series[0:3]) # Incluye el inicio (0) pero excluye el final (3)\n",
        "\n",
        "# Slicing por etiqueta (incluye tanto el inicio como el final)\n",
        "print(\"\\nSlicing por etiqueta ['a':'c'], devolveran tag-value de la porcion\")\n",
        "display(my_series[\"a\":\"c\"]) # Incluye 'a' y 'c'\n",
        "\n",
        "print(\"\\n--- .loc[] (selección por etiqueta), devuelve el valor ---\")\n",
        "# Seleccionar un elemento por etiqueta, devuelve el valor\n",
        "print(\".loc['c']:\")\n",
        "print(my_series.loc['c'])\n",
        "\n",
        "# Seleccionar un rango de elementos por etiqueta (incluye tanto el inicio como el final)\n",
        "print(\".loc['b':'d']:\")\n",
        "display(my_series.loc['b':'d'])\n",
        "\n",
        "# Seleccionar elementos por una lista de etiquetas\n",
        "print(\".loc[['a', 'e', 'c']]:\")\n",
        "display(my_series.loc[['a', 'e', 'c']])\n",
        "\n",
        "print(\"\\n--- .iloc[] (selección por posición entera), devuelve el valor ---\")\n",
        "# Seleccionar un elemento por posición entera, devuelve el valor\n",
        "print(\".iloc[2]:\")\n",
        "print(my_series.iloc[2])\n",
        "\n",
        "# Seleccionar un rango de elementos por posición entera (incluye el inicio, excluye el final), devuelve tag-value\n",
        "print(\".iloc[1:4]:\")\n",
        "display(my_series.iloc[1:4])\n",
        "\n",
        "# Seleccionar elementos especificos en ese orden, por una lista de posiciones enteras, devuelve tag-value\n",
        "print(\".iloc[[0, 4, 2]]:\")\n",
        "display(my_series.iloc[[0, 4, 2]])"
      ],
      "execution_count": 38,
      "outputs": [
        {
          "output_type": "stream",
          "name": "stdout",
          "text": [
            "Serie original, devuelve tag-value:\n"
          ]
        },
        {
          "output_type": "display_data",
          "data": {
            "text/plain": [
              "a    10\n",
              "b    20\n",
              "c    30\n",
              "d    40\n",
              "e    50\n",
              "dtype: int64"
            ],
            "text/html": [
              "<div>\n",
              "<style scoped>\n",
              "    .dataframe tbody tr th:only-of-type {\n",
              "        vertical-align: middle;\n",
              "    }\n",
              "\n",
              "    .dataframe tbody tr th {\n",
              "        vertical-align: top;\n",
              "    }\n",
              "\n",
              "    .dataframe thead th {\n",
              "        text-align: right;\n",
              "    }\n",
              "</style>\n",
              "<table border=\"1\" class=\"dataframe\">\n",
              "  <thead>\n",
              "    <tr style=\"text-align: right;\">\n",
              "      <th></th>\n",
              "      <th>0</th>\n",
              "    </tr>\n",
              "  </thead>\n",
              "  <tbody>\n",
              "    <tr>\n",
              "      <th>a</th>\n",
              "      <td>10</td>\n",
              "    </tr>\n",
              "    <tr>\n",
              "      <th>b</th>\n",
              "      <td>20</td>\n",
              "    </tr>\n",
              "    <tr>\n",
              "      <th>c</th>\n",
              "      <td>30</td>\n",
              "    </tr>\n",
              "    <tr>\n",
              "      <th>d</th>\n",
              "      <td>40</td>\n",
              "    </tr>\n",
              "    <tr>\n",
              "      <th>e</th>\n",
              "      <td>50</td>\n",
              "    </tr>\n",
              "  </tbody>\n",
              "</table>\n",
              "</div><br><label><b>dtype:</b> int64</label>"
            ]
          },
          "metadata": {}
        },
        {
          "output_type": "stream",
          "name": "stdout",
          "text": [
            "\n",
            "--- Slicing ---\n",
            "Slicing por posición [0:3], devolveran tag-value de la porcion\n"
          ]
        },
        {
          "output_type": "display_data",
          "data": {
            "text/plain": [
              "a    10\n",
              "b    20\n",
              "c    30\n",
              "dtype: int64"
            ],
            "text/html": [
              "<div>\n",
              "<style scoped>\n",
              "    .dataframe tbody tr th:only-of-type {\n",
              "        vertical-align: middle;\n",
              "    }\n",
              "\n",
              "    .dataframe tbody tr th {\n",
              "        vertical-align: top;\n",
              "    }\n",
              "\n",
              "    .dataframe thead th {\n",
              "        text-align: right;\n",
              "    }\n",
              "</style>\n",
              "<table border=\"1\" class=\"dataframe\">\n",
              "  <thead>\n",
              "    <tr style=\"text-align: right;\">\n",
              "      <th></th>\n",
              "      <th>0</th>\n",
              "    </tr>\n",
              "  </thead>\n",
              "  <tbody>\n",
              "    <tr>\n",
              "      <th>a</th>\n",
              "      <td>10</td>\n",
              "    </tr>\n",
              "    <tr>\n",
              "      <th>b</th>\n",
              "      <td>20</td>\n",
              "    </tr>\n",
              "    <tr>\n",
              "      <th>c</th>\n",
              "      <td>30</td>\n",
              "    </tr>\n",
              "  </tbody>\n",
              "</table>\n",
              "</div><br><label><b>dtype:</b> int64</label>"
            ]
          },
          "metadata": {}
        },
        {
          "output_type": "stream",
          "name": "stdout",
          "text": [
            "\n",
            "Slicing por etiqueta ['a':'c'], devolveran tag-value de la porcion\n"
          ]
        },
        {
          "output_type": "display_data",
          "data": {
            "text/plain": [
              "a    10\n",
              "b    20\n",
              "c    30\n",
              "dtype: int64"
            ],
            "text/html": [
              "<div>\n",
              "<style scoped>\n",
              "    .dataframe tbody tr th:only-of-type {\n",
              "        vertical-align: middle;\n",
              "    }\n",
              "\n",
              "    .dataframe tbody tr th {\n",
              "        vertical-align: top;\n",
              "    }\n",
              "\n",
              "    .dataframe thead th {\n",
              "        text-align: right;\n",
              "    }\n",
              "</style>\n",
              "<table border=\"1\" class=\"dataframe\">\n",
              "  <thead>\n",
              "    <tr style=\"text-align: right;\">\n",
              "      <th></th>\n",
              "      <th>0</th>\n",
              "    </tr>\n",
              "  </thead>\n",
              "  <tbody>\n",
              "    <tr>\n",
              "      <th>a</th>\n",
              "      <td>10</td>\n",
              "    </tr>\n",
              "    <tr>\n",
              "      <th>b</th>\n",
              "      <td>20</td>\n",
              "    </tr>\n",
              "    <tr>\n",
              "      <th>c</th>\n",
              "      <td>30</td>\n",
              "    </tr>\n",
              "  </tbody>\n",
              "</table>\n",
              "</div><br><label><b>dtype:</b> int64</label>"
            ]
          },
          "metadata": {}
        },
        {
          "output_type": "stream",
          "name": "stdout",
          "text": [
            "\n",
            "--- .loc[] (selección por etiqueta), devuelve el valor ---\n",
            ".loc['c']:\n",
            "30\n",
            ".loc['b':'d']:\n"
          ]
        },
        {
          "output_type": "display_data",
          "data": {
            "text/plain": [
              "b    20\n",
              "c    30\n",
              "d    40\n",
              "dtype: int64"
            ],
            "text/html": [
              "<div>\n",
              "<style scoped>\n",
              "    .dataframe tbody tr th:only-of-type {\n",
              "        vertical-align: middle;\n",
              "    }\n",
              "\n",
              "    .dataframe tbody tr th {\n",
              "        vertical-align: top;\n",
              "    }\n",
              "\n",
              "    .dataframe thead th {\n",
              "        text-align: right;\n",
              "    }\n",
              "</style>\n",
              "<table border=\"1\" class=\"dataframe\">\n",
              "  <thead>\n",
              "    <tr style=\"text-align: right;\">\n",
              "      <th></th>\n",
              "      <th>0</th>\n",
              "    </tr>\n",
              "  </thead>\n",
              "  <tbody>\n",
              "    <tr>\n",
              "      <th>b</th>\n",
              "      <td>20</td>\n",
              "    </tr>\n",
              "    <tr>\n",
              "      <th>c</th>\n",
              "      <td>30</td>\n",
              "    </tr>\n",
              "    <tr>\n",
              "      <th>d</th>\n",
              "      <td>40</td>\n",
              "    </tr>\n",
              "  </tbody>\n",
              "</table>\n",
              "</div><br><label><b>dtype:</b> int64</label>"
            ]
          },
          "metadata": {}
        },
        {
          "output_type": "stream",
          "name": "stdout",
          "text": [
            ".loc[['a', 'e', 'c']]:\n"
          ]
        },
        {
          "output_type": "display_data",
          "data": {
            "text/plain": [
              "a    10\n",
              "e    50\n",
              "c    30\n",
              "dtype: int64"
            ],
            "text/html": [
              "<div>\n",
              "<style scoped>\n",
              "    .dataframe tbody tr th:only-of-type {\n",
              "        vertical-align: middle;\n",
              "    }\n",
              "\n",
              "    .dataframe tbody tr th {\n",
              "        vertical-align: top;\n",
              "    }\n",
              "\n",
              "    .dataframe thead th {\n",
              "        text-align: right;\n",
              "    }\n",
              "</style>\n",
              "<table border=\"1\" class=\"dataframe\">\n",
              "  <thead>\n",
              "    <tr style=\"text-align: right;\">\n",
              "      <th></th>\n",
              "      <th>0</th>\n",
              "    </tr>\n",
              "  </thead>\n",
              "  <tbody>\n",
              "    <tr>\n",
              "      <th>a</th>\n",
              "      <td>10</td>\n",
              "    </tr>\n",
              "    <tr>\n",
              "      <th>e</th>\n",
              "      <td>50</td>\n",
              "    </tr>\n",
              "    <tr>\n",
              "      <th>c</th>\n",
              "      <td>30</td>\n",
              "    </tr>\n",
              "  </tbody>\n",
              "</table>\n",
              "</div><br><label><b>dtype:</b> int64</label>"
            ]
          },
          "metadata": {}
        },
        {
          "output_type": "stream",
          "name": "stdout",
          "text": [
            "\n",
            "--- .iloc[] (selección por posición entera) ---\n",
            ".iloc[2]:\n",
            "30\n",
            ".iloc[1:4]:\n"
          ]
        },
        {
          "output_type": "display_data",
          "data": {
            "text/plain": [
              "b    20\n",
              "c    30\n",
              "d    40\n",
              "dtype: int64"
            ],
            "text/html": [
              "<div>\n",
              "<style scoped>\n",
              "    .dataframe tbody tr th:only-of-type {\n",
              "        vertical-align: middle;\n",
              "    }\n",
              "\n",
              "    .dataframe tbody tr th {\n",
              "        vertical-align: top;\n",
              "    }\n",
              "\n",
              "    .dataframe thead th {\n",
              "        text-align: right;\n",
              "    }\n",
              "</style>\n",
              "<table border=\"1\" class=\"dataframe\">\n",
              "  <thead>\n",
              "    <tr style=\"text-align: right;\">\n",
              "      <th></th>\n",
              "      <th>0</th>\n",
              "    </tr>\n",
              "  </thead>\n",
              "  <tbody>\n",
              "    <tr>\n",
              "      <th>b</th>\n",
              "      <td>20</td>\n",
              "    </tr>\n",
              "    <tr>\n",
              "      <th>c</th>\n",
              "      <td>30</td>\n",
              "    </tr>\n",
              "    <tr>\n",
              "      <th>d</th>\n",
              "      <td>40</td>\n",
              "    </tr>\n",
              "  </tbody>\n",
              "</table>\n",
              "</div><br><label><b>dtype:</b> int64</label>"
            ]
          },
          "metadata": {}
        },
        {
          "output_type": "stream",
          "name": "stdout",
          "text": [
            ".iloc[[0, 4, 2]]:\n"
          ]
        },
        {
          "output_type": "display_data",
          "data": {
            "text/plain": [
              "a    10\n",
              "e    50\n",
              "c    30\n",
              "dtype: int64"
            ],
            "text/html": [
              "<div>\n",
              "<style scoped>\n",
              "    .dataframe tbody tr th:only-of-type {\n",
              "        vertical-align: middle;\n",
              "    }\n",
              "\n",
              "    .dataframe tbody tr th {\n",
              "        vertical-align: top;\n",
              "    }\n",
              "\n",
              "    .dataframe thead th {\n",
              "        text-align: right;\n",
              "    }\n",
              "</style>\n",
              "<table border=\"1\" class=\"dataframe\">\n",
              "  <thead>\n",
              "    <tr style=\"text-align: right;\">\n",
              "      <th></th>\n",
              "      <th>0</th>\n",
              "    </tr>\n",
              "  </thead>\n",
              "  <tbody>\n",
              "    <tr>\n",
              "      <th>a</th>\n",
              "      <td>10</td>\n",
              "    </tr>\n",
              "    <tr>\n",
              "      <th>e</th>\n",
              "      <td>50</td>\n",
              "    </tr>\n",
              "    <tr>\n",
              "      <th>c</th>\n",
              "      <td>30</td>\n",
              "    </tr>\n",
              "  </tbody>\n",
              "</table>\n",
              "</div><br><label><b>dtype:</b> int64</label>"
            ]
          },
          "metadata": {}
        }
      ]
    },
    {
      "cell_type": "markdown",
      "source": [
        "***🏋🏽‍♀️⛹🏽‍♀️ EJERCICIO #1: 2DA PARTE: Slicing, .loc[star:end], .iloc[star:end] ⛹🏽‍♀️🏋🏽‍♀️***\n"
      ],
      "metadata": {
        "id": "148e-sDRcEWE"
      }
    },
    {
      "cell_type": "code",
      "source": [
        "\n",
        "print(\"Rango de calificaciones por posicion: devolveran tag-value de la porcion\")\n",
        "print('con slicing simple\\n', serie_calificaciones[:3], end='\\n\\n')       #Desde 0 hasta posicion 2: Ana  8.5 Luis  7.0 Marta 9.2\n",
        "print('iloc[star:end-1]\\n', serie_calificaciones.iloc[:3], end='\\n\\n')    #Desde 0 hasta posicion 2\n",
        "\n",
        "print(\"Rango de calificaciones por etiqueta: devolveran tag-value de la porcion\")\n",
        "print('con slicing simple\\n', serie_calificaciones[\"Ana\":\"Marta\"],end='\\n\\n')  #De la una hasta la otra\n",
        "print('loc[star:end]\\n', serie_calificaciones.loc[\"Ana\":\"Marta\"])              #De la una hasta la otra\n"
      ],
      "metadata": {
        "colab": {
          "base_uri": "https://localhost:8080/"
        },
        "id": "BqcPiG-4cp8y",
        "outputId": "c9aff2ed-8d76-470c-b52d-377a8c7bcc4e"
      },
      "execution_count": 34,
      "outputs": [
        {
          "output_type": "stream",
          "name": "stdout",
          "text": [
            "Rango de calificaciones por posicion:\n",
            "con slicing simple\n",
            " Ana      8.5\n",
            "Luis     7.0\n",
            "Marta    9.2\n",
            "dtype: float64\n",
            "\n",
            "iloc[star:end-1]\n",
            " Ana      8.5\n",
            "Luis     7.0\n",
            "Marta    9.2\n",
            "dtype: float64\n",
            "\n",
            "Rango de calificaciones por etiqueta:\n",
            "con slicing simple\n",
            " Ana      8.5\n",
            "Luis     7.0\n",
            "Marta    9.2\n",
            "dtype: float64\n",
            "\n",
            "loc[star:end]\n",
            " Ana      8.5\n",
            "Luis     7.0\n",
            "Marta    9.2\n",
            "dtype: float64\n"
          ]
        }
      ]
    },
    {
      "cell_type": "markdown",
      "source": [
        "**⛹🏽‍♀️🏋🏽‍♀️ EJERCICIO #1: 3ERA PARTE: MEediana, ...⛹🏽‍♀️🏋🏽‍♀️**"
      ],
      "metadata": {
        "id": "zzzpM_LieeOD"
      }
    },
    {
      "cell_type": "markdown",
      "metadata": {
        "id": "51972326"
      },
      "source": [
        "### Explicación de Estadísticas Descriptivas en Pandas Series\n",
        "\n",
        "Al trabajar con una Serie de Pandas, puedes obtener rápidamente un resumen de sus características principales utilizando métodos estadísticos. Aquí te explicamos algunos de los más comunes:\n",
        "\n",
        "*   **Media (`.mean()`):**\n",
        "    *   Es el promedio de todos los valores en la Serie. Se calcula sumando todos los valores y dividiendo por el número total de valores. Es sensible a valores atípicos (outliers).\n",
        "    *   **[Insertar imagen: Gráfico de distribución con la media marcada]**\n",
        "\n",
        "*   **Mediana (`.median()`):**\n",
        "    *   Es el valor central en la Serie cuando los datos están ordenados de menor a mayor. Si hay un número par de observaciones, es el promedio de los dos valores centrales. La mediana es menos sensible a los valores atípicos que la media.\n",
        "    *   **[Insertar imagen: Gráfico de distribución con la mediana marcada]**\n",
        "\n",
        "*   **Máximo (`.max()`):**\n",
        "    *   Es el valor más alto en la Serie.\n",
        "\n",
        "*   **Mínimo (`.min()`):**\n",
        "    *   Es el valor más bajo en la Serie.\n",
        "\n",
        "*   **Cuartiles (`.quantile([0.25, 0.5, 0.75])`):**\n",
        "    *   Los cuartiles dividen los datos ordenados en cuatro partes iguales.\n",
        "        *   El primer cuartil (Q1, 0.25) es el valor por debajo del cual se encuentra el 25% de los datos.\n",
        "        *   El segundo cuartil (Q2, 0.5 o 50%) es la mediana.\n",
        "        *   El tercer cuartil (Q3, 0.75) es el valor por debajo del cual se encuentra el 75% de los datos.\n",
        "    *   El rango intercuartílico (IQR) es la diferencia entre Q3 y Q1 y representa el rango del 50% central de los datos.\n",
        "    *   **[Insertar imagen: Diagrama de caja (Box plot) mostrando cuartiles y mediana]**\n",
        "\n",
        "*   **`describe()`:**\n",
        "    *   Este método proporciona un resumen completo de varias estadísticas descriptivas, incluyendo el conteo de observaciones, media, desviación estándar, mínimo, cuartiles (25%, 50%, 75%) y el máximo. Es muy útil para obtener una visión general rápida de la distribución de los datos.\n",
        "    *   **[Insertar imagen: Tabla o resumen visual de output de describe()]**\n",
        "\n",
        "Estas estadísticas te ayudan a entender la distribución central, la dispersión y el rango de los datos en tu Serie."
      ]
    },
    {
      "cell_type": "code",
      "metadata": {
        "colab": {
          "base_uri": "https://localhost:8080/",
          "height": 623
        },
        "id": "5caa281c",
        "outputId": "8b77e96e-b271-4fca-d226-d18bd2b90564"
      },
      "source": [
        "# Calcular promedio de calificaciones\n",
        "promedio = serie_calificaciones.mean()\n",
        "print(\"Promedio de calificaciones:\", promedio)\n",
        "\n",
        "# Calcular mediana\n",
        "mediana = serie_calificaciones.median()\n",
        "print(\"Mediana de calificaciones:\", mediana)\n",
        "\n",
        "# Calcular el máximo\n",
        "maximo = serie_calificaciones.max()\n",
        "print(\"Calificación máxima:\", maximo)\n",
        "\n",
        "# Calcular el mínimo\n",
        "minimo = serie_calificaciones.min()\n",
        "print(\"Calificación mínima:\", minimo)\n",
        "\n",
        "# Calcular cuartiles\n",
        "cuartiles = serie_calificaciones.quantile([0.25, 0.5, 0.75])\n",
        "print(\"\\nCuartiles de calificaciones:\")\n",
        "display(cuartiles)\n",
        "\n",
        "# Usar describe() para estadísticas descriptivas\n",
        "print(\"\\nEstadísticas descriptivas con describe():\")\n",
        "display(serie_calificaciones.describe())"
      ],
      "execution_count": 40,
      "outputs": [
        {
          "output_type": "stream",
          "name": "stdout",
          "text": [
            "Mediana de calificaciones: 7.75\n",
            "Calificación máxima: 9.2\n",
            "Calificación mínima: 6.8\n",
            "\n",
            "Cuartiles de calificaciones:\n"
          ]
        },
        {
          "output_type": "display_data",
          "data": {
            "text/plain": [
              "0.25    6.950\n",
              "0.50    7.750\n",
              "0.75    8.675\n",
              "dtype: float64"
            ],
            "text/html": [
              "<div>\n",
              "<style scoped>\n",
              "    .dataframe tbody tr th:only-of-type {\n",
              "        vertical-align: middle;\n",
              "    }\n",
              "\n",
              "    .dataframe tbody tr th {\n",
              "        vertical-align: top;\n",
              "    }\n",
              "\n",
              "    .dataframe thead th {\n",
              "        text-align: right;\n",
              "    }\n",
              "</style>\n",
              "<table border=\"1\" class=\"dataframe\">\n",
              "  <thead>\n",
              "    <tr style=\"text-align: right;\">\n",
              "      <th></th>\n",
              "      <th>0</th>\n",
              "    </tr>\n",
              "  </thead>\n",
              "  <tbody>\n",
              "    <tr>\n",
              "      <th>0.25</th>\n",
              "      <td>6.950</td>\n",
              "    </tr>\n",
              "    <tr>\n",
              "      <th>0.50</th>\n",
              "      <td>7.750</td>\n",
              "    </tr>\n",
              "    <tr>\n",
              "      <th>0.75</th>\n",
              "      <td>8.675</td>\n",
              "    </tr>\n",
              "  </tbody>\n",
              "</table>\n",
              "</div><br><label><b>dtype:</b> float64</label>"
            ]
          },
          "metadata": {}
        },
        {
          "output_type": "stream",
          "name": "stdout",
          "text": [
            "\n",
            "Estadísticas descriptivas con describe():\n"
          ]
        },
        {
          "output_type": "display_data",
          "data": {
            "text/plain": [
              "count    4.000000\n",
              "mean     7.875000\n",
              "std      1.164403\n",
              "min      6.800000\n",
              "25%      6.950000\n",
              "50%      7.750000\n",
              "75%      8.675000\n",
              "max      9.200000\n",
              "dtype: float64"
            ],
            "text/html": [
              "<div>\n",
              "<style scoped>\n",
              "    .dataframe tbody tr th:only-of-type {\n",
              "        vertical-align: middle;\n",
              "    }\n",
              "\n",
              "    .dataframe tbody tr th {\n",
              "        vertical-align: top;\n",
              "    }\n",
              "\n",
              "    .dataframe thead th {\n",
              "        text-align: right;\n",
              "    }\n",
              "</style>\n",
              "<table border=\"1\" class=\"dataframe\">\n",
              "  <thead>\n",
              "    <tr style=\"text-align: right;\">\n",
              "      <th></th>\n",
              "      <th>0</th>\n",
              "    </tr>\n",
              "  </thead>\n",
              "  <tbody>\n",
              "    <tr>\n",
              "      <th>count</th>\n",
              "      <td>4.000000</td>\n",
              "    </tr>\n",
              "    <tr>\n",
              "      <th>mean</th>\n",
              "      <td>7.875000</td>\n",
              "    </tr>\n",
              "    <tr>\n",
              "      <th>std</th>\n",
              "      <td>1.164403</td>\n",
              "    </tr>\n",
              "    <tr>\n",
              "      <th>min</th>\n",
              "      <td>6.800000</td>\n",
              "    </tr>\n",
              "    <tr>\n",
              "      <th>25%</th>\n",
              "      <td>6.950000</td>\n",
              "    </tr>\n",
              "    <tr>\n",
              "      <th>50%</th>\n",
              "      <td>7.750000</td>\n",
              "    </tr>\n",
              "    <tr>\n",
              "      <th>75%</th>\n",
              "      <td>8.675000</td>\n",
              "    </tr>\n",
              "    <tr>\n",
              "      <th>max</th>\n",
              "      <td>9.200000</td>\n",
              "    </tr>\n",
              "  </tbody>\n",
              "</table>\n",
              "</div><br><label><b>dtype:</b> float64</label>"
            ]
          },
          "metadata": {}
        }
      ]
    },
    {
      "cell_type": "code",
      "source": [
        "\n",
        "\n",
        "\n",
        "\n",
        "\n",
        "\n",
        "\n",
        "\n",
        "\n",
        "\n",
        "\n",
        "\n",
        "\n"
      ],
      "metadata": {
        "id": "a3oG2LP-evpl"
      },
      "execution_count": null,
      "outputs": []
    },
    {
      "cell_type": "code",
      "execution_count": 4,
      "metadata": {
        "colab": {
          "base_uri": "https://localhost:8080/",
          "height": 700
        },
        "id": "DPd6NkoIHV_z",
        "outputId": "9daf7866-db5b-4f0c-9a61-c95b0975043e"
      },
      "outputs": [
        {
          "output_type": "display_data",
          "data": {
            "text/plain": [
              "'Ventas semanales:'"
            ],
            "application/vnd.google.colaboratory.intrinsic+json": {
              "type": "string"
            }
          },
          "metadata": {}
        },
        {
          "output_type": "display_data",
          "data": {
            "text/plain": [
              "Pan         15\n",
              "Leche       22\n",
              "Cereal      18\n",
              "Huevos      27\n",
              "Arroz       19\n",
              "Frijoles    31\n",
              "Queso       16\n",
              "dtype: int64"
            ],
            "text/html": [
              "<div>\n",
              "<style scoped>\n",
              "    .dataframe tbody tr th:only-of-type {\n",
              "        vertical-align: middle;\n",
              "    }\n",
              "\n",
              "    .dataframe tbody tr th {\n",
              "        vertical-align: top;\n",
              "    }\n",
              "\n",
              "    .dataframe thead th {\n",
              "        text-align: right;\n",
              "    }\n",
              "</style>\n",
              "<table border=\"1\" class=\"dataframe\">\n",
              "  <thead>\n",
              "    <tr style=\"text-align: right;\">\n",
              "      <th></th>\n",
              "      <th>0</th>\n",
              "    </tr>\n",
              "  </thead>\n",
              "  <tbody>\n",
              "    <tr>\n",
              "      <th>Pan</th>\n",
              "      <td>15</td>\n",
              "    </tr>\n",
              "    <tr>\n",
              "      <th>Leche</th>\n",
              "      <td>22</td>\n",
              "    </tr>\n",
              "    <tr>\n",
              "      <th>Cereal</th>\n",
              "      <td>18</td>\n",
              "    </tr>\n",
              "    <tr>\n",
              "      <th>Huevos</th>\n",
              "      <td>27</td>\n",
              "    </tr>\n",
              "    <tr>\n",
              "      <th>Arroz</th>\n",
              "      <td>19</td>\n",
              "    </tr>\n",
              "    <tr>\n",
              "      <th>Frijoles</th>\n",
              "      <td>31</td>\n",
              "    </tr>\n",
              "    <tr>\n",
              "      <th>Queso</th>\n",
              "      <td>16</td>\n",
              "    </tr>\n",
              "  </tbody>\n",
              "</table>\n",
              "</div><br><label><b>dtype:</b> int64</label>"
            ]
          },
          "metadata": {}
        },
        {
          "output_type": "display_data",
          "data": {
            "text/plain": [
              "np.int64(18)"
            ]
          },
          "metadata": {}
        },
        {
          "output_type": "display_data",
          "data": {
            "text/plain": [
              "'Frijoles'"
            ],
            "application/vnd.google.colaboratory.intrinsic+json": {
              "type": "string"
            }
          },
          "metadata": {}
        },
        {
          "output_type": "display_data",
          "data": {
            "text/plain": [
              "np.int64(148)"
            ]
          },
          "metadata": {}
        },
        {
          "output_type": "display_data",
          "data": {
            "text/plain": [
              "Leche       22\n",
              "Huevos      27\n",
              "Frijoles    31\n",
              "dtype: int64"
            ],
            "text/html": [
              "<div>\n",
              "<style scoped>\n",
              "    .dataframe tbody tr th:only-of-type {\n",
              "        vertical-align: middle;\n",
              "    }\n",
              "\n",
              "    .dataframe tbody tr th {\n",
              "        vertical-align: top;\n",
              "    }\n",
              "\n",
              "    .dataframe thead th {\n",
              "        text-align: right;\n",
              "    }\n",
              "</style>\n",
              "<table border=\"1\" class=\"dataframe\">\n",
              "  <thead>\n",
              "    <tr style=\"text-align: right;\">\n",
              "      <th></th>\n",
              "      <th>0</th>\n",
              "    </tr>\n",
              "  </thead>\n",
              "  <tbody>\n",
              "    <tr>\n",
              "      <th>Leche</th>\n",
              "      <td>22</td>\n",
              "    </tr>\n",
              "    <tr>\n",
              "      <th>Huevos</th>\n",
              "      <td>27</td>\n",
              "    </tr>\n",
              "    <tr>\n",
              "      <th>Frijoles</th>\n",
              "      <td>31</td>\n",
              "    </tr>\n",
              "  </tbody>\n",
              "</table>\n",
              "</div><br><label><b>dtype:</b> int64</label>"
            ]
          },
          "metadata": {}
        },
        {
          "output_type": "display_data",
          "data": {
            "text/plain": [
              "Leche       22\n",
              "Huevos      27\n",
              "Frijoles    31\n",
              "dtype: int64"
            ],
            "text/html": [
              "<div>\n",
              "<style scoped>\n",
              "    .dataframe tbody tr th:only-of-type {\n",
              "        vertical-align: middle;\n",
              "    }\n",
              "\n",
              "    .dataframe tbody tr th {\n",
              "        vertical-align: top;\n",
              "    }\n",
              "\n",
              "    .dataframe thead th {\n",
              "        text-align: right;\n",
              "    }\n",
              "</style>\n",
              "<table border=\"1\" class=\"dataframe\">\n",
              "  <thead>\n",
              "    <tr style=\"text-align: right;\">\n",
              "      <th></th>\n",
              "      <th>0</th>\n",
              "    </tr>\n",
              "  </thead>\n",
              "  <tbody>\n",
              "    <tr>\n",
              "      <th>Leche</th>\n",
              "      <td>22</td>\n",
              "    </tr>\n",
              "    <tr>\n",
              "      <th>Huevos</th>\n",
              "      <td>27</td>\n",
              "    </tr>\n",
              "    <tr>\n",
              "      <th>Frijoles</th>\n",
              "      <td>31</td>\n",
              "    </tr>\n",
              "  </tbody>\n",
              "</table>\n",
              "</div><br><label><b>dtype:</b> int64</label>"
            ]
          },
          "metadata": {}
        }
      ],
      "source": [
        "import pandas as pd\n",
        "from IPython.display import display\n",
        "\n",
        "# 1. Crear Serie de ventas semanales\n",
        "productos = [\"Pan\", \"Leche\", \"Cereal\", \"Huevos\", \"Arroz\", \"Frijoles\", \"Queso\"]\n",
        "ventas_semanales = [15, 22, 18, 27, 19, 31, 16]\n",
        "ventas = pd.Series(ventas_semanales, index=productos)\n",
        "\n",
        "# Mostrar la Serie\n",
        "display(\"Ventas semanales:\")\n",
        "display(ventas)\n",
        "\n",
        "# 2. Acciones solicitadas\n",
        "# Ventas de 'Cereal'\n",
        "display(ventas.loc[\"Cereal\"])\n",
        "\n",
        "# Producto más vendido\n",
        "display(ventas.idxmax())\n",
        "\n",
        "# Suma total de ventas\n",
        "display(ventas.sum())\n",
        "\n",
        "# Productos con ventas > 20\n",
        "display(ventas[ventas > 20])\n",
        "\n",
        "# Ventas mayores al promedio\n",
        "promedio = ventas.mean()\n",
        "ventas_mayor_prom = ventas[ventas > promedio]\n",
        "display(ventas_mayor_prom)\n"
      ]
    }
  ]
}